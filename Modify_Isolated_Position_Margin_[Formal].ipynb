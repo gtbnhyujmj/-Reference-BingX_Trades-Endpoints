{
  "nbformat": 4,
  "nbformat_minor": 0,
  "metadata": {
    "colab": {
      "provenance": [],
      "authorship_tag": "ABX9TyPgV8ddVnSqc5a8/zndzglu",
      "include_colab_link": true
    },
    "kernelspec": {
      "name": "python3",
      "display_name": "Python 3"
    },
    "language_info": {
      "name": "python"
    }
  },
  "cells": [
    {
      "cell_type": "markdown",
      "metadata": {
        "id": "view-in-github",
        "colab_type": "text"
      },
      "source": [
        "<a href=\"https://colab.research.google.com/github/gtbnhyujmj/-Reference-BingX_Trades-Endpoints/blob/main/Modify_Isolated_Position_Margin_%5BFormal%5D.ipynb\" target=\"_parent\"><img src=\"https://colab.research.google.com/assets/colab-badge.svg\" alt=\"Open In Colab\"/></a>"
      ]
    },
    {
      "cell_type": "code",
      "execution_count": null,
      "metadata": {
        "id": "9iBYlsY7Csmi"
      },
      "outputs": [],
      "source": [
        "# 調整逐倉持倉保證金\n",
        "# 調整逐倉模式下持倉的保證金資金。"
      ]
    },
    {
      "cell_type": "code",
      "source": [
        "# POST /openApi/swap/v2/trade/positionMargin"
      ],
      "metadata": {
        "id": "SYUwwVLsCyMA"
      },
      "execution_count": null,
      "outputs": []
    },
    {
      "cell_type": "code",
      "source": [
        "# 匯入時間模組\n",
        "import time\n",
        "# 匯入requests模組，用於發送HTTP請求\n",
        "import requests\n",
        "# 匯入hmac模組，用於產生簽名\n",
        "import hmac\n",
        "# 匯入sha256演算法\n",
        "from hashlib import sha256"
      ],
      "metadata": {
        "id": "AvwbnyVgCz0o"
      },
      "execution_count": null,
      "outputs": []
    },
    {
      "cell_type": "code",
      "source": [
        "# API主機網址\n",
        "APIURL = \"https://open-api.bingx.com\"\n",
        "# API金鑰（請自行填入）\n",
        "APIKEY = \"\"\n",
        "# SECRET金鑰（請自行填入）\n",
        "SECRETKEY = \"\""
      ],
      "metadata": {
        "id": "H7shfiOMC1xY"
      },
      "execution_count": null,
      "outputs": []
    },
    {
      "cell_type": "code",
      "source": [
        "# 範例函式，調整逐倉持倉保證金\n",
        "def demo():\n",
        "    # 請求主體（POST一般為空字典）\n",
        "    payload = {}\n",
        "    # API路徑\n",
        "    path = '/openApi/swap/v2/trade/positionMargin'\n",
        "    # HTTP請求方法\n",
        "    method = \"POST\"\n",
        "    # 調整保證金參數\n",
        "    paramsMap = {\n",
        "        \"recvWindow\": \"10000\",            # 請求有效時間視窗（毫秒）\n",
        "        \"symbol\": \"BTC-USDT\",             # 交易對\n",
        "        \"type\": \"1\",                      # 類型（1增加、2減少）\n",
        "        \"amount\": \"3\",                    # 保證金金額\n",
        "        \"positionSide\": \"LONG\",           # 持倉方向\n",
        "        \"timestamp\": \"1702718148654\"      # 時間戳\n",
        "    }\n",
        "    # 組合參數並加上timestamp\n",
        "    paramsStr = parseParam(paramsMap)\n",
        "    # 發送API請求\n",
        "    return send_request(method, path, paramsStr, payload)"
      ],
      "metadata": {
        "id": "BH7iPxOvC3Qw"
      },
      "execution_count": null,
      "outputs": []
    },
    {
      "cell_type": "code",
      "source": [
        "# HMAC-SHA256簽名產生\n",
        "def get_sign(api_secret, payload):\n",
        "    # 用hmac和sha256產生簽名\n",
        "    signature = hmac.new(api_secret.encode(\"utf-8\"), payload.encode(\"utf-8\"), digestmod=sha256).hexdigest()\n",
        "    # 印出簽名（除錯用）\n",
        "    print(\"sign=\" + signature)\n",
        "    # 回傳簽名\n",
        "    return signature"
      ],
      "metadata": {
        "id": "3r9eV1MsC5rA"
      },
      "execution_count": null,
      "outputs": []
    },
    {
      "cell_type": "code",
      "source": [
        "# 發送API請求\n",
        "def send_request(method, path, urlpa, payload):\n",
        "    # 組合完整請求網址（含簽名）\n",
        "    url = \"%s%s?%s&signature=%s\" % (APIURL, path, urlpa, get_sign(SECRETKEY, urlpa))\n",
        "    # 印出請求網址\n",
        "    print(url)\n",
        "    # 設定HTTP標頭（APIKEY）\n",
        "    headers = {\n",
        "        'X-BX-APIKEY': APIKEY,\n",
        "    }\n",
        "    # 發送HTTP請求\n",
        "    response = requests.request(method, url, headers=headers, data=payload)\n",
        "    # 回傳伺服器回應\n",
        "    return response.text"
      ],
      "metadata": {
        "id": "UcxBjW_cC8EA"
      },
      "execution_count": null,
      "outputs": []
    },
    {
      "cell_type": "code",
      "source": [
        "# 將參數字典轉為排序後的查詢字串並加timestamp\n",
        "def parseParam(paramsMap):\n",
        "    # 取得排序後的鍵\n",
        "    sortedKeys = sorted(paramsMap)\n",
        "    # 依序組合成查詢字串\n",
        "    paramsStr = \"&\".join([\"%s=%s\" % (x, paramsMap[x]) for x in sortedKeys])\n",
        "    # 如果有參數，加上&timestamp\n",
        "    if paramsStr != \"\":\n",
        "        return paramsStr+\"&timestamp=\"+str(int(time.time() * 1000))\n",
        "    else:\n",
        "        # 若無其他參數，直接加timestamp\n",
        "        return paramsStr+\"timestamp=\"+str(int(time.time() * 1000))"
      ],
      "metadata": {
        "id": "NhpOc8NQC9hY"
      },
      "execution_count": null,
      "outputs": []
    },
    {
      "cell_type": "code",
      "source": [
        "# 主程式進入點\n",
        "if __name__ == '__main__':\n",
        "    # 執行demo函式並印出回傳內容\n",
        "    print(\"demo:\", demo())"
      ],
      "metadata": {
        "id": "9OtIgoF3C-rw"
      },
      "execution_count": null,
      "outputs": []
    }
  ]
}