{
  "nbformat": 4,
  "nbformat_minor": 0,
  "metadata": {
    "colab": {
      "provenance": [],
      "authorship_tag": "ABX9TyOgt/dQmjZKQZ58V46PEMkw",
      "include_colab_link": true
    },
    "kernelspec": {
      "name": "python3",
      "display_name": "Python 3"
    },
    "language_info": {
      "name": "python"
    }
  },
  "cells": [
    {
      "cell_type": "markdown",
      "metadata": {
        "id": "view-in-github",
        "colab_type": "text"
      },
      "source": [
        "<a href=\"https://colab.research.google.com/github/gtbnhyujmj/-Reference-BingX_Trades-Endpoints/blob/main/Place_multiple_orders_%5BFormal%5D.ipynb\" target=\"_parent\"><img src=\"https://colab.research.google.com/assets/colab-badge.svg\" alt=\"Open In Colab\"/></a>"
      ]
    },
    {
      "cell_type": "code",
      "execution_count": null,
      "metadata": {
        "id": "vBfbDaNSHNSX"
      },
      "outputs": [],
      "source": [
        "# POST /openApi/swap/v2/trade/batchOrders\n",
        "\n",
        "# UID 速率限制：5 次/秒\n",
        "# 按 IP 分組速率限制：\n",
        "\n",
        "# API KEY 權限需求：永續合約交易"
      ]
    },
    {
      "cell_type": "code",
      "source": [
        "# 匯入時間模組\n",
        "import time\n",
        "# 匯入requests模組，負責發送HTTP請求\n",
        "import requests\n",
        "# 匯入hmac模組，用於生成簽名\n",
        "import hmac\n",
        "# 匯入sha256演算法\n",
        "from hashlib import sha256"
      ],
      "metadata": {
        "id": "8yyAwbN8HTVt"
      },
      "execution_count": null,
      "outputs": []
    },
    {
      "cell_type": "code",
      "source": [
        "# API 主機網址\n",
        "APIURL = \"https://open-api.bingx.com\"\n",
        "# API 金鑰（請填入你的APIKEY）\n",
        "APIKEY = \"\"\n",
        "# SECRET 金鑰（請填入你的SECRETKEY）\n",
        "SECRETKEY = \"\""
      ],
      "metadata": {
        "id": "5Q5xoBaNHUas"
      },
      "execution_count": null,
      "outputs": []
    },
    {
      "cell_type": "code",
      "source": [
        "# 範例函式，發送批量下單請求\n",
        "def demo():\n",
        "    # 請求主體，這裡為空\n",
        "    payload = {}\n",
        "    # API 路徑\n",
        "    path = '/openApi/swap/v2/trade/batchOrders'\n",
        "    # HTTP 請求方法\n",
        "    method = \"POST\"\n",
        "    # 批量下單參數（字串格式的JSON）\n",
        "    paramsMap = {\n",
        "        \"batchOrders\": \"[{\\\"symbol\\\": \\\"ETH-USDT\\\",\\\"type\\\": \\\"MARKET\\\",\\\"side\\\": \\\"BUY\\\",\\\"positionSide\\\": \\\"LONG\\\",\\\"quantity\\\": 1},{\\\"symbol\\\": \\\"BTC-USDT\\\",\\\"type\\\": \\\"MARKET\\\",\\\"side\\\": \\\"BUY\\\",\\\"positionSide\\\": \\\"LONG\\\",\\\"quantity\\\": 0.001}]\"\n",
        "    }\n",
        "    # 將參數整理並加上timestamp\n",
        "    paramsStr = parseParam(paramsMap)\n",
        "    # 發送API請求\n",
        "    return send_request(method, path, paramsStr, payload)"
      ],
      "metadata": {
        "id": "WiQoO_NDHVwE"
      },
      "execution_count": null,
      "outputs": []
    },
    {
      "cell_type": "code",
      "source": [
        "# 產生HMAC-SHA256簽名\n",
        "def get_sign(api_secret, payload):\n",
        "    # 使用hmac加密取得簽名\n",
        "    signature = hmac.new(api_secret.encode(\"utf-8\"), payload.encode(\"utf-8\"), digestmod=sha256).hexdigest()\n",
        "    # 印出簽名（方便debug）\n",
        "    print(\"sign=\" + signature)\n",
        "    # 回傳簽名字串\n",
        "    return signature"
      ],
      "metadata": {
        "id": "r2xMvIlcHXaM"
      },
      "execution_count": null,
      "outputs": []
    },
    {
      "cell_type": "code",
      "source": [
        "# 發送API請求\n",
        "def send_request(method, path, urlpa, payload):\n",
        "    # 組合完整請求網址（帶簽名）\n",
        "    url = \"%s%s?%s&signature=%s\" % (APIURL, path, urlpa, get_sign(SECRETKEY, urlpa))\n",
        "    # 印出請求網址\n",
        "    print(url)\n",
        "    # 設定HTTP標頭（APIKEY）\n",
        "    headers = {\n",
        "        'X-BX-APIKEY': APIKEY,\n",
        "    }\n",
        "    # 發送HTTP請求\n",
        "    response = requests.request(method, url, headers=headers, data=payload)\n",
        "    # 回傳伺服器回應\n",
        "    return response.text"
      ],
      "metadata": {
        "id": "1szbYzPgHZ18"
      },
      "execution_count": null,
      "outputs": []
    },
    {
      "cell_type": "code",
      "source": [
        "# 將參數字典轉成排序後的查詢字串，加上timestamp\n",
        "def parseParam(paramsMap):\n",
        "    # 取得排序後的鍵\n",
        "    sortedKeys = sorted(paramsMap)\n",
        "    # 將各參數組合成查詢字串\n",
        "    paramsStr = \"&\".join([\"%s=%s\" % (x, paramsMap[x]) for x in sortedKeys])\n",
        "    # 如果有參數，加&timestamp\n",
        "    if paramsStr != \"\":\n",
        "        return paramsStr+\"&timestamp=\"+str(int(time.time() * 1000))\n",
        "    else:\n",
        "        # 若無其他參數，直接加timestamp\n",
        "        return paramsStr+\"timestamp=\"+str(int(time.time() * 1000))"
      ],
      "metadata": {
        "id": "udhc_M4QHcbV"
      },
      "execution_count": null,
      "outputs": []
    },
    {
      "cell_type": "code",
      "source": [
        "# 主程式區塊\n",
        "if __name__ == '__main__':\n",
        "    # 執行demo函式並印出回傳值\n",
        "    print(\"demo:\", demo())"
      ],
      "metadata": {
        "id": "laZS9jrfHeFs"
      },
      "execution_count": null,
      "outputs": []
    }
  ]
}