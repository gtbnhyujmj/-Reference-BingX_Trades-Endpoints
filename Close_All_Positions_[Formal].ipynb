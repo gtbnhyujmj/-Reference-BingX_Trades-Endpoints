{
  "nbformat": 4,
  "nbformat_minor": 0,
  "metadata": {
    "colab": {
      "provenance": [],
      "authorship_tag": "ABX9TyPcSr7AkufpHQE/tLfJSRVK",
      "include_colab_link": true
    },
    "kernelspec": {
      "name": "python3",
      "display_name": "Python 3"
    },
    "language_info": {
      "name": "python"
    }
  },
  "cells": [
    {
      "cell_type": "markdown",
      "metadata": {
        "id": "view-in-github",
        "colab_type": "text"
      },
      "source": [
        "<a href=\"https://colab.research.google.com/github/gtbnhyujmj/-Reference-BingX_Trades-Endpoints/blob/main/Close_All_Positions_%5BFormal%5D.ipynb\" target=\"_parent\"><img src=\"https://colab.research.google.com/assets/colab-badge.svg\" alt=\"Open In Colab\"/></a>"
      ]
    },
    {
      "cell_type": "code",
      "execution_count": null,
      "metadata": {
        "id": "7izpkP6FH_fq"
      },
      "outputs": [],
      "source": [
        "# POST /openApi/swap/v2/trade/closeAllPositions"
      ]
    },
    {
      "cell_type": "code",
      "source": [
        "# 匯入時間模組\n",
        "import time\n",
        "# 匯入requests模組，發送HTTP請求\n",
        "import requests\n",
        "# 匯入hmac模組，用於簽名\n",
        "import hmac\n",
        "# 匯入sha256雜湊算法\n",
        "from hashlib import sha256"
      ],
      "metadata": {
        "id": "A5ANnJ4CIAdE"
      },
      "execution_count": null,
      "outputs": []
    },
    {
      "cell_type": "code",
      "source": [
        "# API主機網址\n",
        "APIURL = \"https://open-api.bingx.com\"\n",
        "# API金鑰（自行填入）\n",
        "APIKEY = \"\"\n",
        "# 金鑰密鑰（自行填入）\n",
        "SECRETKEY = \"\""
      ],
      "metadata": {
        "id": "tMK7mOM3ICFk"
      },
      "execution_count": null,
      "outputs": []
    },
    {
      "cell_type": "code",
      "source": [
        "# 範例函式，發送全部平倉請求\n",
        "def demo():\n",
        "    # 請求主體（POST空資料）\n",
        "    payload = {}\n",
        "    # API路徑\n",
        "    path = '/openApi/swap/v2/trade/closeAllPositions'\n",
        "    # HTTP請求方法\n",
        "    method = \"POST\"\n",
        "    # 下單參數，這裡只需指定symbol\n",
        "    paramsMap = {\n",
        "        \"symbol\": \"BTC-USDT\"\n",
        "    }\n",
        "    # 解析參數並加上timestamp\n",
        "    paramsStr = parseParam(paramsMap)\n",
        "    # 發送API請求\n",
        "    return send_request(method, path, paramsStr, payload)"
      ],
      "metadata": {
        "id": "AKoOEAvCIEUk"
      },
      "execution_count": null,
      "outputs": []
    },
    {
      "cell_type": "code",
      "source": [
        "# 產生HMAC-SHA256簽名\n",
        "def get_sign(api_secret, payload):\n",
        "    # 計算簽名\n",
        "    signature = hmac.new(api_secret.encode(\"utf-8\"), payload.encode(\"utf-8\"), digestmod=sha256).hexdigest()\n",
        "    # 印出簽名（除錯用）\n",
        "    print(\"sign=\" + signature)\n",
        "    # 回傳簽名\n",
        "    return signature"
      ],
      "metadata": {
        "id": "2zaReq93IGG0"
      },
      "execution_count": null,
      "outputs": []
    },
    {
      "cell_type": "code",
      "source": [
        "# 發送API請求\n",
        "def send_request(method, path, urlpa, payload):\n",
        "    # 組合請求網址（含簽名）\n",
        "    url = \"%s%s?%s&signature=%s\" % (APIURL, path, urlpa, get_sign(SECRETKEY, urlpa))\n",
        "    # 印出請求網址\n",
        "    print(url)\n",
        "    # 設定請求標頭\n",
        "    headers = {\n",
        "        'X-BX-APIKEY': APIKEY,\n",
        "    }\n",
        "    # 發送HTTP請求\n",
        "    response = requests.request(method, url, headers=headers, data=payload)\n",
        "    # 回傳伺服器回應內容\n",
        "    return response.text"
      ],
      "metadata": {
        "id": "gyy3xia7IHqs"
      },
      "execution_count": null,
      "outputs": []
    },
    {
      "cell_type": "code",
      "source": [
        "# 將參數字典轉成查詢字串並加timestamp\n",
        "def parseParam(paramsMap):\n",
        "    # 取得排序後的鍵\n",
        "    sortedKeys = sorted(paramsMap)\n",
        "    # 將參數組合成查詢字串\n",
        "    paramsStr = \"&\".join([\"%s=%s\" % (x, paramsMap[x]) for x in sortedKeys])\n",
        "    # 若有參數，加上&timestamp\n",
        "    if paramsStr != \"\":\n",
        "        return paramsStr+\"&timestamp=\"+str(int(time.time() * 1000))\n",
        "    else:\n",
        "        # 若無參數，直接加timestamp\n",
        "        return paramsStr+\"timestamp=\"+str(int(time.time() * 1000))"
      ],
      "metadata": {
        "id": "GitXu38SIJjs"
      },
      "execution_count": null,
      "outputs": []
    },
    {
      "cell_type": "code",
      "source": [
        "# 主程式進入點\n",
        "if __name__ == '__main__':\n",
        "    # 執行demo函式並印出回傳內容\n",
        "    print(\"demo:\", demo())"
      ],
      "metadata": {
        "id": "_4de0q4_IK_c"
      },
      "execution_count": null,
      "outputs": []
    }
  ]
}