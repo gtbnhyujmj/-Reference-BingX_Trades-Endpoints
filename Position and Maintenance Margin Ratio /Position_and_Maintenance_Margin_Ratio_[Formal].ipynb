{
  "nbformat": 4,
  "nbformat_minor": 0,
  "metadata": {
    "colab": {
      "provenance": [],
      "authorship_tag": "ABX9TyN6UlaZyldnXAJq2vydHHiN",
      "include_colab_link": true
    },
    "kernelspec": {
      "name": "python3",
      "display_name": "Python 3"
    },
    "language_info": {
      "name": "python"
    }
  },
  "cells": [
    {
      "cell_type": "markdown",
      "metadata": {
        "id": "view-in-github",
        "colab_type": "text"
      },
      "source": [
        "<a href=\"https://colab.research.google.com/github/gtbnhyujmj/-Reference-BingX_Trades-Endpoints/blob/main/Position_and_Maintenance_Margin_Ratio_%5BFormal%5D.ipynb\" target=\"_parent\"><img src=\"https://colab.research.google.com/assets/colab-badge.svg\" alt=\"Open In Colab\"/></a>"
      ]
    },
    {
      "cell_type": "code",
      "execution_count": null,
      "metadata": {
        "id": "UmBckeYVQD5O"
      },
      "outputs": [],
      "source": [
        "# 倉位與維持保證金率（Position and Maintenance Margin Ratio）\n",
        "# 獲取倉位及維持保證金率的相關資訊"
      ]
    },
    {
      "cell_type": "code",
      "source": [
        "# GET /openApi/swap/v1/maintMarginRatio"
      ],
      "metadata": {
        "id": "xMxdadFaQIij"
      },
      "execution_count": null,
      "outputs": []
    },
    {
      "cell_type": "code",
      "source": [
        "import time                   # 導入時間模組，用於產生 timestamp\n",
        "import requests               # 導入 requests 模組，發送 HTTP 請求\n",
        "import hmac                   # 導入 hmac 模組，計算 HMAC 簽名\n",
        "from hashlib import sha256    # 導入 sha256 雜湊，用於 HMAC 簽名"
      ],
      "metadata": {
        "id": "hC_dRUniQLKa"
      },
      "execution_count": null,
      "outputs": []
    },
    {
      "cell_type": "code",
      "source": [
        "APIURL = \"https://open-api.bingx.com\"   # BingX API 入口網址\n",
        "APIKEY = \"\"        # 輸入你的 API KEY\n",
        "SECRETKEY = \"\"     # 輸入你的 SECRET KEY"
      ],
      "metadata": {
        "id": "sP3cr36sQLja"
      },
      "execution_count": null,
      "outputs": []
    },
    {
      "cell_type": "code",
      "source": [
        "def demo():\n",
        "    payload = {}   # GET 請求內容，這裡沒有額外資料\n",
        "    path = '/openApi/swap/v1/maintMarginRatio'   # API 路徑：查詢倉位與維持保證金率\n",
        "    method = \"GET\"   # HTTP 請求方法\n",
        "    paramsMap = {   # API 查詢參數\n",
        "        \"symbol\": \"BTC-USDT\",            # 目標交易對（如 BTC-USDT）\n",
        "        \"timestamp\": \"1702732072912\",    # 請求時間戳（建議自動產生）\n",
        "        \"recvWindow\": \"5000\"             # 接收視窗（單位：毫秒，預設 5000，可選）\n",
        "    }\n",
        "    paramsStr = parseParam(paramsMap)   # 將參數 dict 轉成查詢字串\n",
        "    return send_request(method, path, paramsStr, payload)   # 發送 API 請求"
      ],
      "metadata": {
        "id": "uTyIO1IHQNny"
      },
      "execution_count": null,
      "outputs": []
    },
    {
      "cell_type": "code",
      "source": [
        "def get_sign(api_secret, payload):\n",
        "    # 用 SECRET KEY 和查詢字串產生 HMAC-SHA256 簽名\n",
        "    signature = hmac.new(api_secret.encode(\"utf-8\"), payload.encode(\"utf-8\"), digestmod=sha256).hexdigest()\n",
        "    print(\"sign=\" + signature)  # 輸出簽名（debug 用）\n",
        "    return signature"
      ],
      "metadata": {
        "id": "TJevSPCFQPP6"
      },
      "execution_count": null,
      "outputs": []
    },
    {
      "cell_type": "code",
      "source": [
        "def send_request(method, path, urlpa, payload):\n",
        "    # 拼接完整請求 URL，加上簽名\n",
        "    url = \"%s%s?%s&signature=%s\" % (APIURL, path, urlpa, get_sign(SECRETKEY, urlpa))\n",
        "    print(url)  # 印出實際請求 URL（debug 用）\n",
        "    headers = {\n",
        "        'X-BX-APIKEY': APIKEY,    # APIKEY 放在 Header\n",
        "    }\n",
        "    # 發送 HTTP 請求\n",
        "    response = requests.request(method, url, headers=headers, data=payload)\n",
        "    return response.text    # 回傳 API 回應內容（純文字）"
      ],
      "metadata": {
        "id": "QBRZBjMBQQ2a"
      },
      "execution_count": null,
      "outputs": []
    },
    {
      "cell_type": "code",
      "source": [
        "def parseParam(paramsMap):\n",
        "    # 將參數 dict 按 key 排序，轉換成 URL 查詢字串\n",
        "    sortedKeys = sorted(paramsMap)\n",
        "    paramsStr = \"&\".join([\"%s=%s\" % (x, paramsMap[x]) for x in sortedKeys])\n",
        "    # 動態補上 timestamp\n",
        "    if paramsStr != \"\":\n",
        "        return paramsStr+\"&timestamp=\"+str(int(time.time() * 1000))\n",
        "    else:\n",
        "        return paramsStr+\"timestamp=\"+str(int(time.time() * 1000))"
      ],
      "metadata": {
        "id": "o2pgDd-sQScK"
      },
      "execution_count": null,
      "outputs": []
    },
    {
      "cell_type": "code",
      "source": [
        "if __name__ == '__main__':\n",
        "    print(\"demo:\", demo())   # 主程式測試，呼叫 demo()"
      ],
      "metadata": {
        "id": "C-qAWJ5iQT1T"
      },
      "execution_count": null,
      "outputs": []
    }
  ]
}
