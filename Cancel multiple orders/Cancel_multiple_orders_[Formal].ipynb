{
  "nbformat": 4,
  "nbformat_minor": 0,
  "metadata": {
    "colab": {
      "provenance": [],
      "authorship_tag": "ABX9TyMFkUz25CPENffvlyUC+EiI",
      "include_colab_link": true
    },
    "kernelspec": {
      "name": "python3",
      "display_name": "Python 3"
    },
    "language_info": {
      "name": "python"
    }
  },
  "cells": [
    {
      "cell_type": "markdown",
      "metadata": {
        "id": "view-in-github",
        "colab_type": "text"
      },
      "source": [
        "<a href=\"https://colab.research.google.com/github/gtbnhyujmj/-Reference-BingX_Trades-Endpoints/blob/main/Cancel_multiple_orders_%5BFormal%5D.ipynb\" target=\"_parent\"><img src=\"https://colab.research.google.com/assets/colab-badge.svg\" alt=\"Open In Colab\"/></a>"
      ]
    },
    {
      "cell_type": "code",
      "execution_count": null,
      "metadata": {
        "id": "yA_YyO6jzMzi"
      },
      "outputs": [],
      "source": [
        "# Cancel multiple orders\n",
        "# 批量取消訂單"
      ]
    },
    {
      "cell_type": "code",
      "source": [
        "# DELETE /openApi/swap/v2/trade/batchOrders"
      ],
      "metadata": {
        "id": "LhT-pzuYzTY_"
      },
      "execution_count": null,
      "outputs": []
    },
    {
      "cell_type": "code",
      "source": [
        "# 匯入時間模組\n",
        "import time\n",
        "# 匯入requests模組，用於發送HTTP請求\n",
        "import requests\n",
        "# 匯入hmac模組，用於產生簽名\n",
        "import hmac\n",
        "# 匯入sha256演算法\n",
        "from hashlib import sha256"
      ],
      "metadata": {
        "id": "kABeC-0lzXz-"
      },
      "execution_count": null,
      "outputs": []
    },
    {
      "cell_type": "code",
      "source": [
        "# API主機網址\n",
        "APIURL = \"https://open-api.bingx.com\"\n",
        "# API金鑰（請自行填入）\n",
        "APIKEY = \"\"\n",
        "# SECRET金鑰（請自行填入）\n",
        "SECRETKEY = \"\""
      ],
      "metadata": {
        "id": "HEW3DpBdzZje"
      },
      "execution_count": null,
      "outputs": []
    },
    {
      "cell_type": "code",
      "source": [
        "# 範例函式，發送批量取消訂單請求\n",
        "def demo():\n",
        "    # 請求主體（DELETE一般為空字典）\n",
        "    payload = {}\n",
        "    # API路徑\n",
        "    path = '/openApi/swap/v2/trade/batchOrders'\n",
        "    # HTTP請求方法\n",
        "    method = \"DELETE\"\n",
        "    # 批量取消訂單參數\n",
        "    paramsMap = {\n",
        "        \"orderIdList\": \"[1735924831603391122, 1735924833239172233]\",  # 要取消的訂單ID列表（字串格式）\n",
        "        \"symbol\": \"BTC-USDT\",                                         # 交易對\n",
        "        \"timestamp\": \"1702711750843\"                                  # 時間戳\n",
        "    }\n",
        "    # 組合參數並加上timestamp\n",
        "    paramsStr = parseParam(paramsMap)\n",
        "    # 發送API請求\n",
        "    return send_request(method, path, paramsStr, payload)"
      ],
      "metadata": {
        "id": "QltQPiodzbGO"
      },
      "execution_count": null,
      "outputs": []
    },
    {
      "cell_type": "code",
      "source": [
        "# HMAC-SHA256簽名產生\n",
        "def get_sign(api_secret, payload):\n",
        "    # 使用hmac與sha256產生簽名\n",
        "    signature = hmac.new(api_secret.encode(\"utf-8\"), payload.encode(\"utf-8\"), digestmod=sha256).hexdigest()\n",
        "    # 印出簽名（除錯用）\n",
        "    print(\"sign=\" + signature)\n",
        "    # 回傳簽名\n",
        "    return signature"
      ],
      "metadata": {
        "id": "jLFu-2K3zctn"
      },
      "execution_count": null,
      "outputs": []
    },
    {
      "cell_type": "code",
      "source": [
        "# 發送API請求\n",
        "def send_request(method, path, urlpa, payload):\n",
        "    # 組合完整請求網址（含簽名）\n",
        "    url = \"%s%s?%s&signature=%s\" % (APIURL, path, urlpa, get_sign(SECRETKEY, urlpa))\n",
        "    # 印出實際請求網址\n",
        "    print(url)\n",
        "    # 設定HTTP標頭（APIKEY）\n",
        "    headers = {\n",
        "        'X-BX-APIKEY': APIKEY,\n",
        "    }\n",
        "    # 發送HTTP請求\n",
        "    response = requests.request(method, url, headers=headers, data=payload)\n",
        "    # 回傳伺服器回應\n",
        "    return response.text"
      ],
      "metadata": {
        "id": "Y47ddzAqzepO"
      },
      "execution_count": null,
      "outputs": []
    },
    {
      "cell_type": "code",
      "source": [
        "# 將參數字典轉為排序後的查詢字串並加timestamp\n",
        "def parseParam(paramsMap):\n",
        "    # 取得排序後的鍵\n",
        "    sortedKeys = sorted(paramsMap)\n",
        "    # 依序組合成查詢字串\n",
        "    paramsStr = \"&\".join([\"%s=%s\" % (x, paramsMap[x]) for x in sortedKeys])\n",
        "    # 如果有參數，加上&timestamp\n",
        "    if paramsStr != \"\":\n",
        "        return paramsStr+\"&timestamp=\"+str(int(time.time() * 1000))\n",
        "    else:\n",
        "        # 若無其他參數，直接加timestamp\n",
        "        return paramsStr+\"timestamp=\"+str(int(time.time() * 1000))"
      ],
      "metadata": {
        "id": "37TSPFe1zh-_"
      },
      "execution_count": null,
      "outputs": []
    },
    {
      "cell_type": "code",
      "source": [
        "# 主程式進入點\n",
        "if __name__ == '__main__':\n",
        "    # 執行demo函式並印出回傳內容\n",
        "    print(\"demo:\", demo())"
      ],
      "metadata": {
        "id": "Zkn9u8LZzjLG"
      },
      "execution_count": null,
      "outputs": []
    }
  ]
}
