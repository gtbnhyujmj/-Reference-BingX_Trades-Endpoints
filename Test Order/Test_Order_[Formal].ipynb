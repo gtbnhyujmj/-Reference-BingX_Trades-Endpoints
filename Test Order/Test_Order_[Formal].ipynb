{
  "nbformat": 4,
  "nbformat_minor": 0,
  "metadata": {
    "colab": {
      "provenance": [],
      "authorship_tag": "ABX9TyMjxdsJ+E0uLgRIR0Rw+MQG",
      "include_colab_link": true
    },
    "kernelspec": {
      "name": "python3",
      "display_name": "Python 3"
    },
    "language_info": {
      "name": "python"
    }
  },
  "cells": [
    {
      "cell_type": "markdown",
      "metadata": {
        "id": "view-in-github",
        "colab_type": "text"
      },
      "source": [
        "<a href=\"https://colab.research.google.com/github/gtbnhyujmj/-Reference-BingX_Trades-Endpoints/blob/main/Test_Order_%5BFormal%5D.ipynb\" target=\"_parent\"><img src=\"https://colab.research.google.com/assets/colab-badge.svg\" alt=\"Open In Colab\"/></a>"
      ]
    },
    {
      "cell_type": "code",
      "execution_count": null,
      "metadata": {
        "id": "Bm2I_uAAphHJ"
      },
      "outputs": [],
      "source": [
        "# 測試下單\n",
        "# 當前帳戶在指定的合約品種下單。（支持限價單、市價單、條件市價單等）"
      ]
    },
    {
      "cell_type": "code",
      "source": [
        "# POST /openApi/swap/v2/trade/order/test\n",
        "\n",
        "# 按 UID 限速：每秒 5 次\n",
        "# 按 IP 組限速：\n",
        "# API KEY 權限：永續合約交易"
      ],
      "metadata": {
        "id": "00DdufI5_WfJ"
      },
      "execution_count": null,
      "outputs": []
    },
    {
      "cell_type": "code",
      "source": [
        "# 導入標準函式庫\n",
        "import time\n",
        "import requests\n",
        "import hmac\n",
        "from hashlib import sha256"
      ],
      "metadata": {
        "id": "878QUhl8_c-B"
      },
      "execution_count": null,
      "outputs": []
    },
    {
      "cell_type": "code",
      "source": [
        "# API 端點網址\n",
        "APIURL = \"https://open-api.bingx.com\"\n",
        "APIKEY = \"\"      # 輸入你的 API KEY\n",
        "SECRETKEY = \"\"   # 輸入你的 SECRET KEY"
      ],
      "metadata": {
        "id": "EvStEJan_fQZ"
      },
      "execution_count": null,
      "outputs": []
    },
    {
      "cell_type": "code",
      "source": [
        "# 範例函式，送出測試下單請求\n",
        "def demo():\n",
        "    payload = {}   # POST 請求的資料主體，這裡為空\n",
        "    path = '/openApi/swap/v2/trade/order/test'   # API 路徑\n",
        "    method = \"POST\"   # HTTP 方法\n",
        "\n",
        "    paramsMap = {    # 訂單參數\n",
        "        \"symbol\": \"BTC-USDT\",      # 交易對\n",
        "        \"side\": \"BUY\",             # 買進\n",
        "        \"positionSide\": \"LONG\",    # 多單\n",
        "        \"type\": \"MARKET\",          # 市價單\n",
        "        \"quantity\": 5,             # 數量\n",
        "        \"takeProfit\": \"{\\\"type\\\": \\\"TAKE_PROFIT_MARKET\\\", \\\"stopPrice\\\": 31968.0,\\\"price\\\": 31968.0,\\\"workingType\\\":\\\"MARK_PRICE\\\"}\"\n",
        "        # 止盈條件，需用字串（符合API格式）\n",
        "    }\n",
        "\n",
        "    paramsStr = parseParam(paramsMap)   # 組合參數字串，含簽名\n",
        "    return send_request(method, path, paramsStr, payload)   # 發送請求"
      ],
      "metadata": {
        "id": "CAXuxVTM_gxY"
      },
      "execution_count": null,
      "outputs": []
    },
    {
      "cell_type": "code",
      "source": [
        "# 產生簽名\n",
        "def get_sign(api_secret, payload):\n",
        "    signature = hmac.new(api_secret.encode(\"utf-8\"), payload.encode(\"utf-8\"), digestmod=sha256).hexdigest()\n",
        "    print(\"sign=\" + signature)\n",
        "    return signature"
      ],
      "metadata": {
        "id": "TtVwJVHX_nPA"
      },
      "execution_count": null,
      "outputs": []
    },
    {
      "cell_type": "code",
      "source": [
        "# 發送 API 請求\n",
        "def send_request(method, path, urlpa, payload):\n",
        "    # 組合請求網址，包含簽名\n",
        "    url = \"%s%s?%s&signature=%s\" % (APIURL, path, urlpa, get_sign(SECRETKEY, urlpa))\n",
        "    print(url)\n",
        "\n",
        "    headers = {\n",
        "        'X-BX-APIKEY': APIKEY,    # 設定 API KEY 到標頭\n",
        "    }\n",
        "\n",
        "    response = requests.request(method, url, headers=headers, data=payload)  # 發送 HTTP 請求\n",
        "    return response.text   # 回傳回應內容"
      ],
      "metadata": {
        "id": "i99kvJ9n_o9Y"
      },
      "execution_count": null,
      "outputs": []
    },
    {
      "cell_type": "code",
      "source": [
        "# 參數排序並加上時間戳\n",
        "def parseParam(paramsMap):\n",
        "    sortedKeys = sorted(paramsMap)   # 參數鍵排序\n",
        "    paramsStr = \"&\".join([\"%s=%s\" % (x, paramsMap[x]) for x in sortedKeys])   # 組成參數字串\n",
        "\n",
        "    if paramsStr != \"\":\n",
        "        return paramsStr + \"&timestamp=\" + str(int(time.time() * 1000))      # 非空時，加上&timestamp\n",
        "    else:\n",
        "        return paramsStr + \"timestamp=\" + str(int(time.time() * 1000))       # 空參數時直接加timestamp"
      ],
      "metadata": {
        "id": "GzSg2u-3_q6Q"
      },
      "execution_count": null,
      "outputs": []
    },
    {
      "cell_type": "code",
      "source": [
        "# 主執行區，直接執行 demo 函式\n",
        "if __name__ == '__main__':\n",
        "    print(\"demo:\", demo())"
      ],
      "metadata": {
        "id": "-LeBmuZN_sqA"
      },
      "execution_count": null,
      "outputs": []
    }
  ]
}
