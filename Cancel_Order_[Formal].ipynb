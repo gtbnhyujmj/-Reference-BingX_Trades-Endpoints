{
  "nbformat": 4,
  "nbformat_minor": 0,
  "metadata": {
    "colab": {
      "provenance": [],
      "authorship_tag": "ABX9TyMQxrUJFksT9mhzR1WpqiBO",
      "include_colab_link": true
    },
    "kernelspec": {
      "name": "python3",
      "display_name": "Python 3"
    },
    "language_info": {
      "name": "python"
    }
  },
  "cells": [
    {
      "cell_type": "markdown",
      "metadata": {
        "id": "view-in-github",
        "colab_type": "text"
      },
      "source": [
        "<a href=\"https://colab.research.google.com/github/gtbnhyujmj/-Reference-BingX_Trades-Endpoints/blob/main/Cancel_Order_%5BFormal%5D.ipynb\" target=\"_parent\"><img src=\"https://colab.research.google.com/assets/colab-badge.svg\" alt=\"Open In Colab\"/></a>"
      ]
    },
    {
      "cell_type": "code",
      "execution_count": null,
      "metadata": {
        "id": "BUsUIlIHIoBU"
      },
      "outputs": [],
      "source": [
        "# API 使用主要步驟：\n",
        "# 取消訂單的 API 每秒僅限執行一次，且一次只能取消同一個 orderId 或 clientOrderId，請勿重複提交。"
      ]
    },
    {
      "cell_type": "code",
      "source": [
        "# DELETE /openApi/swap/v2/trade/order"
      ],
      "metadata": {
        "id": "ZouQuekIIsmE"
      },
      "execution_count": null,
      "outputs": []
    },
    {
      "cell_type": "code",
      "source": [
        "# 匯入時間模組\n",
        "import time\n",
        "# 匯入requests模組，負責發送HTTP請求\n",
        "import requests\n",
        "# 匯入hmac模組，用於產生簽名\n",
        "import hmac\n",
        "# 匯入sha256演算法\n",
        "from hashlib import sha256"
      ],
      "metadata": {
        "id": "YpEnpnagIwus"
      },
      "execution_count": null,
      "outputs": []
    },
    {
      "cell_type": "code",
      "source": [
        "# API主機網址\n",
        "APIURL = \"https://open-api.bingx.com\"\n",
        "# API金鑰（請自行填入）\n",
        "APIKEY = \"\"\n",
        "# SECRET金鑰（請自行填入）\n",
        "SECRETKEY = \"\""
      ],
      "metadata": {
        "id": "cvzwQj-sIxMU"
      },
      "execution_count": null,
      "outputs": []
    },
    {
      "cell_type": "code",
      "source": [
        "# 範例函式，發送取消訂單請求\n",
        "def demo():\n",
        "    # 請求主體（DELETE通常為空字典）\n",
        "    payload = {}\n",
        "    # API路徑\n",
        "    path = '/openApi/swap/v2/trade/order'\n",
        "    # HTTP請求方法\n",
        "    method = \"DELETE\"\n",
        "    # 取消訂單參數\n",
        "    paramsMap = {\n",
        "        \"orderId\": \"1736011869418901234\",    # 訂單ID\n",
        "        \"symbol\": \"RNDR-USDT\",               # 交易對\n",
        "        \"timestamp\": \"1702732515704\"         # 請求時間戳\n",
        "    }\n",
        "    # 組合參數字串，加入timestamp\n",
        "    paramsStr = parseParam(paramsMap)\n",
        "    # 發送API請求\n",
        "    return send_request(method, path, paramsStr, payload)"
      ],
      "metadata": {
        "id": "FvtKdfpsIzLV"
      },
      "execution_count": null,
      "outputs": []
    },
    {
      "cell_type": "code",
      "source": [
        "# HMAC-SHA256簽名產生\n",
        "def get_sign(api_secret, payload):\n",
        "    # 用hmac和sha256生成簽名\n",
        "    signature = hmac.new(api_secret.encode(\"utf-8\"), payload.encode(\"utf-8\"), digestmod=sha256).hexdigest()\n",
        "    # 印出簽名（方便除錯）\n",
        "    print(\"sign=\" + signature)\n",
        "    # 回傳簽名\n",
        "    return signature"
      ],
      "metadata": {
        "id": "8ioS6OcNI2Vc"
      },
      "execution_count": null,
      "outputs": []
    },
    {
      "cell_type": "code",
      "source": [
        "# 發送API請求\n",
        "def send_request(method, path, urlpa, payload):\n",
        "    # 組合完整請求網址（含簽名）\n",
        "    url = \"%s%s?%s&signature=%s\" % (APIURL, path, urlpa, get_sign(SECRETKEY, urlpa))\n",
        "    # 印出請求網址\n",
        "    print(url)\n",
        "    # 設定HTTP標頭（APIKEY）\n",
        "    headers = {\n",
        "        'X-BX-APIKEY': APIKEY,\n",
        "    }\n",
        "    # 發送HTTP請求\n",
        "    response = requests.request(method, url, headers=headers, data=payload)\n",
        "    # 回傳伺服器回應\n",
        "    return response.text"
      ],
      "metadata": {
        "id": "DAnXNZPmI34U"
      },
      "execution_count": null,
      "outputs": []
    },
    {
      "cell_type": "code",
      "source": [
        "# 將參數字典轉為排序後的查詢字串並加timestamp\n",
        "def parseParam(paramsMap):\n",
        "    # 取得排序後的鍵\n",
        "    sortedKeys = sorted(paramsMap)\n",
        "    # 依序組合成查詢字串\n",
        "    paramsStr = \"&\".join([\"%s=%s\" % (x, paramsMap[x]) for x in sortedKeys])\n",
        "    # 如果有參數，加上&timestamp\n",
        "    if paramsStr != \"\":\n",
        "        return paramsStr+\"&timestamp=\"+str(int(time.time() * 1000))\n",
        "    else:\n",
        "        # 若無其他參數，直接加timestamp\n",
        "        return paramsStr+\"timestamp=\"+str(int(time.time() * 1000))"
      ],
      "metadata": {
        "id": "V38amiNtI6NU"
      },
      "execution_count": null,
      "outputs": []
    },
    {
      "cell_type": "code",
      "source": [
        "# 主程式進入點\n",
        "if __name__ == '__main__':\n",
        "    # 執行demo函式並印出回傳內容\n",
        "    print(\"demo:\", demo())"
      ],
      "metadata": {
        "id": "zeF4ns7jI8E1"
      },
      "execution_count": null,
      "outputs": []
    }
  ]
}