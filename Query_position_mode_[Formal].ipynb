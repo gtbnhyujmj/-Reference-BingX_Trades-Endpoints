{
  "nbformat": 4,
  "nbformat_minor": 0,
  "metadata": {
    "colab": {
      "provenance": [],
      "authorship_tag": "ABX9TyOZirwjrZVyURisC5wqpCYW",
      "include_colab_link": true
    },
    "kernelspec": {
      "name": "python3",
      "display_name": "Python 3"
    },
    "language_info": {
      "name": "python"
    }
  },
  "cells": [
    {
      "cell_type": "markdown",
      "metadata": {
        "id": "view-in-github",
        "colab_type": "text"
      },
      "source": [
        "<a href=\"https://colab.research.google.com/github/gtbnhyujmj/-Reference-BingX_Trades-Endpoints/blob/main/Query_position_mode_%5BFormal%5D.ipynb\" target=\"_parent\"><img src=\"https://colab.research.google.com/assets/colab-badge.svg\" alt=\"Open In Colab\"/></a>"
      ]
    },
    {
      "cell_type": "code",
      "execution_count": 2,
      "metadata": {
        "id": "-CS0cJm5MB57"
      },
      "outputs": [],
      "source": [
        "# 查詢持倉模式\n",
        "# 用於獲取永續合約的持倉模式，支持雙向持倉模式和單向持倉模式。"
      ]
    },
    {
      "cell_type": "code",
      "source": [
        "# GET /openApi/swap/v1/positionSide/dual"
      ],
      "metadata": {
        "id": "AurHdPcNMWeM"
      },
      "execution_count": null,
      "outputs": []
    },
    {
      "cell_type": "code",
      "source": [
        "import time                   # 時間模組，用於產生 timestamp\n",
        "import requests               # HTTP 請求模組，用於呼叫 API\n",
        "import hmac                   # HMAC 加密模組，用於生成 API 簽名\n",
        "from hashlib import sha256    # sha256 雜湊，用於 HMAC"
      ],
      "metadata": {
        "id": "wos7UN-CMbwE"
      },
      "execution_count": null,
      "outputs": []
    },
    {
      "cell_type": "code",
      "source": [
        "APIURL = \"https://open-api.bingx.com\"   # BingX API 入口網址\n",
        "APIKEY = \"\"        # 這裡填入你的 API Key\n",
        "SECRETKEY = \"\"     # 這裡填入你的 Secret Key"
      ],
      "metadata": {
        "id": "SoDPuXzPMcJs"
      },
      "execution_count": null,
      "outputs": []
    },
    {
      "cell_type": "code",
      "source": [
        "def demo():\n",
        "    payload = {}   # 這裡是 POST 請求要帶的資料，此接口為 GET，所以空字典\n",
        "    path = '/openApi/swap/v1/positionSide/dual'   # API 路徑\n",
        "    method = \"GET\"    # HTTP 方法為 GET\n",
        "    paramsMap = {\n",
        "        \"timestamp\": \"1702731530753\"  # 請求需要的 timestamp，這裡給範例值\n",
        "    }\n",
        "    paramsStr = parseParam(paramsMap)   # 將參數 dict 轉成字串\n",
        "    return send_request(method, path, paramsStr, payload)   # 發送 API 請求"
      ],
      "metadata": {
        "id": "p28zcRB7Mexc"
      },
      "execution_count": null,
      "outputs": []
    },
    {
      "cell_type": "code",
      "source": [
        "def get_sign(api_secret, payload):\n",
        "    # 生成簽名，使用 HMAC-SHA256 加密方式\n",
        "    signature = hmac.new(api_secret.encode(\"utf-8\"), payload.encode(\"utf-8\"), digestmod=sha256).hexdigest()\n",
        "    print(\"sign=\" + signature)  # 輸出簽名方便 debug\n",
        "    return signature"
      ],
      "metadata": {
        "id": "6cx6022xMgOU"
      },
      "execution_count": null,
      "outputs": []
    },
    {
      "cell_type": "code",
      "source": [
        "def send_request(method, path, urlpa, payload):\n",
        "    # 根據 API 規則，拼接 URL 並附帶簽名\n",
        "    url = \"%s%s?%s&signature=%s\" % (APIURL, path, urlpa, get_sign(SECRETKEY, urlpa))\n",
        "    print(url)  # 輸出完整 URL 方便 debug\n",
        "    headers = {\n",
        "        'X-BX-APIKEY': APIKEY,    # 必須在 Header 加上 APIKEY\n",
        "    }\n",
        "    # 發送 HTTP 請求，這裡用 requests.request 通用方法\n",
        "    response = requests.request(method, url, headers=headers, data=payload)\n",
        "    return response.text    # 回傳 API 回應的文字"
      ],
      "metadata": {
        "id": "4y0YLjh9Mh4U"
      },
      "execution_count": null,
      "outputs": []
    },
    {
      "cell_type": "code",
      "source": [
        "def parseParam(paramsMap):\n",
        "    # 將參數 dict 轉成 URL 查詢字串（依 key 排序）\n",
        "    sortedKeys = sorted(paramsMap)\n",
        "    paramsStr = \"&\".join([\"%s=%s\" % (x, paramsMap[x]) for x in sortedKeys])\n",
        "    # 檢查字串內容是否為空，並補上動態產生的 timestamp\n",
        "    if paramsStr != \"\":\n",
        "        return paramsStr+\"&timestamp=\"+str(int(time.time() * 1000))\n",
        "    else:\n",
        "        return paramsStr+\"timestamp=\"+str(int(time.time() * 1000))"
      ],
      "metadata": {
        "id": "UOpdC7IqMjr8"
      },
      "execution_count": null,
      "outputs": []
    },
    {
      "cell_type": "code",
      "source": [
        "if __name__ == '__main__':\n",
        "    print(\"demo:\", demo())   # 主程式，執行 demo 測試"
      ],
      "metadata": {
        "id": "5X7e__PUMlAc"
      },
      "execution_count": null,
      "outputs": []
    }
  ]
}