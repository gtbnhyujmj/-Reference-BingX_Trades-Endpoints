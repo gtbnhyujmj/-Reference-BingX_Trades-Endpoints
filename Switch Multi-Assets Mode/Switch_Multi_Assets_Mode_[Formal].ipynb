{
  "nbformat": 4,
  "nbformat_minor": 0,
  "metadata": {
    "colab": {
      "provenance": [],
      "authorship_tag": "ABX9TyO+wCVix4knCoChFISnGhKr",
      "include_colab_link": true
    },
    "kernelspec": {
      "name": "python3",
      "display_name": "Python 3"
    },
    "language_info": {
      "name": "python"
    }
  },
  "cells": [
    {
      "cell_type": "markdown",
      "metadata": {
        "id": "view-in-github",
        "colab_type": "text"
      },
      "source": [
        "<a href=\"https://colab.research.google.com/github/gtbnhyujmj/-Reference-BingX_Trades-Endpoints/blob/main/Switch_Multi_Assets_Mode_%5BFormal%5D.ipynb\" target=\"_parent\"><img src=\"https://colab.research.google.com/assets/colab-badge.svg\" alt=\"Open In Colab\"/></a>"
      ]
    },
    {
      "cell_type": "code",
      "execution_count": null,
      "metadata": {
        "id": "r22F5BqxpmaQ"
      },
      "outputs": [],
      "source": [
        "# 切換多資產模式（Switch Multi-Assets Mode）\n",
        "# 切換帳戶多資產模式"
      ]
    },
    {
      "cell_type": "code",
      "source": [
        "# 僅限實盤交易環境使用，實盤 API 網域為：\n",
        "# https://open-api.bingx.com"
      ],
      "metadata": {
        "id": "H2CVoyqeprGn"
      },
      "execution_count": null,
      "outputs": []
    },
    {
      "cell_type": "code",
      "source": [
        "# POST /openApi/swap/v1/trade/assetMode"
      ],
      "metadata": {
        "id": "ZUBc2hH0pu6H"
      },
      "execution_count": null,
      "outputs": []
    },
    {
      "cell_type": "code",
      "source": [
        "import time                   # 導入時間模組，用於產生 timestamp\n",
        "import requests               # 導入 requests 模組，發送 HTTP 請求\n",
        "import hmac                   # 導入 hmac 模組，計算 HMAC 簽名\n",
        "from hashlib import sha256    # 導入 sha256 雜湊，用於 HMAC 簽名"
      ],
      "metadata": {
        "id": "KRFsO949pxqn"
      },
      "execution_count": null,
      "outputs": []
    },
    {
      "cell_type": "code",
      "source": [
        "APIURL = \"https://open-api.bingx.com\"   # BingX API 入口網址（僅實盤環境可用）\n",
        "APIKEY = \"\"        # 輸入你的 API KEY\n",
        "SECRETKEY = \"\"     # 輸入你的 SECRET KEY"
      ],
      "metadata": {
        "id": "79X_baiTpx8I"
      },
      "execution_count": null,
      "outputs": []
    },
    {
      "cell_type": "code",
      "source": [
        "def demo():\n",
        "    payload = {}   # POST 請求內容，這裡沒有額外資料\n",
        "    path = '/openApi/swap/v1/trade/assetMode'   # API 路徑：切換多資產模式\n",
        "    method = \"POST\"   # HTTP 請求方法\n",
        "    paramsMap = {     # API 查詢參數\n",
        "        \"assetMode\": \"multiAssetsMode\",     # 目標模式（多資產模式 multiAssetsMode，或依官方文件填寫其他模式）\n",
        "        \"timestamp\": 1730863321895          # 請求時間戳（建議自動產生）\n",
        "    }\n",
        "    paramsStr = parseParam(paramsMap)   # 將參數 dict 轉成查詢字串\n",
        "    return send_request(method, path, paramsStr, payload)   # 發送 API 請求"
      ],
      "metadata": {
        "id": "a_huL8IHp0Fv"
      },
      "execution_count": null,
      "outputs": []
    },
    {
      "cell_type": "code",
      "source": [
        "def get_sign(api_secret, payload):\n",
        "    # 用 SECRET KEY 和查詢字串產生 HMAC-SHA256 簽名\n",
        "    signature = hmac.new(api_secret.encode(\"utf-8\"), payload.encode(\"utf-8\"), digestmod=sha256).hexdigest()\n",
        "    print(\"sign=\" + signature)  # 輸出簽名（debug 用）\n",
        "    return signature"
      ],
      "metadata": {
        "id": "zpzRJfCGp1hf"
      },
      "execution_count": null,
      "outputs": []
    },
    {
      "cell_type": "code",
      "source": [
        "def send_request(method, path, urlpa, payload):\n",
        "    # 拼接完整請求 URL，加上簽名\n",
        "    url = \"%s%s?%s&signature=%s\" % (APIURL, path, urlpa, get_sign(SECRETKEY, urlpa))\n",
        "    print(url)  # 印出實際請求 URL（debug 用）\n",
        "    headers = {\n",
        "        'X-BX-APIKEY': APIKEY,    # APIKEY 放在 Header\n",
        "    }\n",
        "    # 發送 HTTP 請求\n",
        "    response = requests.request(method, url, headers=headers, data=payload)\n",
        "    return response.text    # 回傳 API 回應內容（純文字）"
      ],
      "metadata": {
        "id": "JcJD4Cwgp3C3"
      },
      "execution_count": null,
      "outputs": []
    },
    {
      "cell_type": "code",
      "source": [
        "def parseParam(paramsMap):\n",
        "    # 將參數 dict 按 key 排序，轉換成 URL 查詢字串\n",
        "    sortedKeys = sorted(paramsMap)\n",
        "    paramsStr = \"&\".join([\"%s=%s\" % (x, paramsMap[x]) for x in sortedKeys])\n",
        "    # 動態補上 timestamp\n",
        "    if paramsStr != \"\":\n",
        "        return paramsStr+\"&timestamp=\"+str(int(time.time() * 1000))\n",
        "    else:\n",
        "        return paramsStr+\"timestamp=\"+str(int(time.time() * 1000))"
      ],
      "metadata": {
        "id": "tlwStOgjp46_"
      },
      "execution_count": null,
      "outputs": []
    },
    {
      "cell_type": "code",
      "source": [
        "if __name__ == '__main__':\n",
        "    print(\"demo:\", demo())   # 主程式測試，呼叫 demo()"
      ],
      "metadata": {
        "id": "87DKMRASp6jX"
      },
      "execution_count": null,
      "outputs": []
    }
  ]
}
