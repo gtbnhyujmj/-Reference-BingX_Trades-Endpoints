{
  "nbformat": 4,
  "nbformat_minor": 0,
  "metadata": {
    "colab": {
      "provenance": [],
      "authorship_tag": "ABX9TyOGklVV2DOnRYzXvnd0Vcg7",
      "include_colab_link": true
    },
    "kernelspec": {
      "name": "python3",
      "display_name": "Python 3"
    },
    "language_info": {
      "name": "python"
    }
  },
  "cells": [
    {
      "cell_type": "markdown",
      "metadata": {
        "id": "view-in-github",
        "colab_type": "text"
      },
      "source": [
        "<a href=\"https://colab.research.google.com/github/gtbnhyujmj/-Reference-BingX_Trades-Endpoints/blob/main/Place_order_in_demo_trading_%5BFormal%5D.ipynb\" target=\"_parent\"><img src=\"https://colab.research.google.com/assets/colab-badge.svg\" alt=\"Open In Colab\"/></a>"
      ]
    },
    {
      "cell_type": "code",
      "execution_count": null,
      "metadata": {
        "id": "ZLuwUqWoF1EL"
      },
      "outputs": [],
      "source": [
        "# 模擬交易下單"
      ]
    },
    {
      "cell_type": "code",
      "source": [
        "# POST /openApi/swap/v2/trade/order\n",
        "\n",
        "# UID 速率限制：5 次/秒\n",
        "# IP 分組速率限制：\n",
        "\n",
        "# API KEY 權限需求：永續合約交易"
      ],
      "metadata": {
        "id": "EgGaDyMTGUUl"
      },
      "execution_count": null,
      "outputs": []
    },
    {
      "cell_type": "code",
      "source": [
        "# 載入時間模組\n",
        "import time\n",
        "# 載入requests模組，負責HTTP請求\n",
        "import requests\n",
        "# 載入hmac模組，負責簽名\n",
        "import hmac\n",
        "# 載入sha256雜湊演算法\n",
        "from hashlib import sha256"
      ],
      "metadata": {
        "id": "Q9FI4zr4GaE1"
      },
      "execution_count": null,
      "outputs": []
    },
    {
      "cell_type": "code",
      "source": [
        "# 定義API主機\n",
        "APIURL = \"https://open-api.bingx.com\"\n",
        "# 定義API金鑰（需自行填入）\n",
        "APIKEY = \"\"\n",
        "# 定義SECRET金鑰（需自行填入）\n",
        "SECRETKEY = \"\""
      ],
      "metadata": {
        "id": "Pho0GtchGdE9"
      },
      "execution_count": null,
      "outputs": []
    },
    {
      "cell_type": "code",
      "source": [
        "# 下單主程式（範例）\n",
        "def demo():\n",
        "    # 建立payload資料（POST主體，這裡是空的）\n",
        "    payload = {}\n",
        "    # API路徑\n",
        "    path = '/openApi/swap/v2/trade/order'\n",
        "    # HTTP請求方法\n",
        "    method = \"POST\"\n",
        "    # 下單參數（dict格式）\n",
        "    paramsMap = {\n",
        "        \"symbol\": \"BTC-USDT\",  # 交易對\n",
        "        \"side\": \"BUY\",         # 買單\n",
        "        \"positionSide\": \"LONG\",# 多單\n",
        "        \"type\": \"MARKET\",      # 市價單\n",
        "        \"quantity\": 5,         # 下單數量\n",
        "        \"takeProfit\": \"{\\\"type\\\": \\\"TAKE_PROFIT_MARKET\\\", \\\"stopPrice\\\": 31968.0,\\\"price\\\": 31968.0,\\\"workingType\\\":\\\"MARK_PRICE\\\"}\"\n",
        "        # 止盈條件，必須字串格式\n",
        "    }\n",
        "    # 將參數格式化並加入timestamp\n",
        "    paramsStr = parseParam(paramsMap)\n",
        "    # 實際發送API請求\n",
        "    return send_request(method, path, paramsStr, payload)"
      ],
      "metadata": {
        "id": "3tFKE4xdGfdN"
      },
      "execution_count": null,
      "outputs": []
    },
    {
      "cell_type": "code",
      "source": [
        "# HMAC簽名產生函數\n",
        "def get_sign(api_secret, payload):\n",
        "    # 計算簽名值\n",
        "    signature = hmac.new(api_secret.encode(\"utf-8\"), payload.encode(\"utf-8\"), digestmod=sha256).hexdigest()\n",
        "    # 印出簽名（方便debug）\n",
        "    print(\"sign=\" + signature)\n",
        "    # 回傳簽名字串\n",
        "    return signature"
      ],
      "metadata": {
        "id": "Ahgtp0WmGhUM"
      },
      "execution_count": null,
      "outputs": []
    },
    {
      "cell_type": "code",
      "source": [
        "# 發送HTTP請求主體\n",
        "def send_request(method, path, urlpa, payload):\n",
        "    # 組合帶簽名的請求網址\n",
        "    url = \"%s%s?%s&signature=%s\" % (APIURL, path, urlpa, get_sign(SECRETKEY, urlpa))\n",
        "    # 印出實際請求網址\n",
        "    print(url)\n",
        "    # 設定APIKEY於header\n",
        "    headers = {\n",
        "        'X-BX-APIKEY': APIKEY,\n",
        "    }\n",
        "    # 發送HTTP請求\n",
        "    response = requests.request(method, url, headers=headers, data=payload)\n",
        "    # 回傳伺服器回應字串\n",
        "    return response.text"
      ],
      "metadata": {
        "id": "YHBV_tz6GimN"
      },
      "execution_count": null,
      "outputs": []
    },
    {
      "cell_type": "code",
      "source": [
        "# 將參數字典轉為排序後的查詢字串，並加上timestamp\n",
        "def parseParam(paramsMap):\n",
        "    # 取得排序後的鍵名\n",
        "    sortedKeys = sorted(paramsMap)\n",
        "    # 依序組合成查詢字串\n",
        "    paramsStr = \"&\".join([\"%s=%s\" % (x, paramsMap[x]) for x in sortedKeys])\n",
        "    # 如果有參數，加上&timestamp\n",
        "    if paramsStr != \"\":\n",
        "        return paramsStr+\"&timestamp=\"+str(int(time.time() * 1000))\n",
        "    else:\n",
        "        # 沒有其他參數直接加timestamp\n",
        "        return paramsStr+\"timestamp=\"+str(int(time.time() * 1000))"
      ],
      "metadata": {
        "id": "ghPEMB7lGj2s"
      },
      "execution_count": null,
      "outputs": []
    },
    {
      "cell_type": "code",
      "source": [
        "# 主程式區段（進入點）\n",
        "if __name__ == '__main__':\n",
        "    # 執行demo函式並印出回應\n",
        "    print(\"demo:\", demo())"
      ],
      "metadata": {
        "id": "z0gWjG7sGlU1"
      },
      "execution_count": null,
      "outputs": []
    }
  ]
}