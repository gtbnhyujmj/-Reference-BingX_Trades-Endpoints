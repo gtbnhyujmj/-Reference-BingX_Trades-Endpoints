{
  "nbformat": 4,
  "nbformat_minor": 0,
  "metadata": {
    "colab": {
      "provenance": [],
      "authorship_tag": "ABX9TyPXNYheCQTJjA3hBStnZKMN",
      "include_colab_link": true
    },
    "kernelspec": {
      "name": "python3",
      "display_name": "Python 3"
    },
    "language_info": {
      "name": "python"
    }
  },
  "cells": [
    {
      "cell_type": "markdown",
      "metadata": {
        "id": "view-in-github",
        "colab_type": "text"
      },
      "source": [
        "<a href=\"https://colab.research.google.com/github/gtbnhyujmj/-Reference-BingX_Trades-Endpoints/blob/main/Place_order_%5BFormal%5D.ipynb\" target=\"_parent\"><img src=\"https://colab.research.google.com/assets/colab-badge.svg\" alt=\"Open In Colab\"/></a>"
      ]
    },
    {
      "cell_type": "code",
      "execution_count": null,
      "metadata": {
        "id": "tnOKbw6BFFuG"
      },
      "outputs": [],
      "source": [
        "# POST /openApi/swap/v2/trade/order\n",
        "\n",
        "# UID 速率限制：5 次/秒\n",
        "# 按 IP 分組速率限制：\n",
        "\n",
        "# API KEY 權限需求：永續合約交易"
      ]
    },
    {
      "cell_type": "code",
      "source": [
        "# 匯入時間模組\n",
        "import time\n",
        "# 匯入requests模組，用來發送HTTP請求\n",
        "import requests\n",
        "# 匯入hmac模組，用於加密簽名\n",
        "import hmac\n",
        "# 匯入sha256雜湊算法\n",
        "from hashlib import sha256"
      ],
      "metadata": {
        "id": "adI104QTFMym"
      },
      "execution_count": null,
      "outputs": []
    },
    {
      "cell_type": "code",
      "source": [
        "# API 主機網址\n",
        "APIURL = \"https://open-api.bingx.com\"\n",
        "# API 金鑰，請填寫你的APIKEY\n",
        "APIKEY = \"\"\n",
        "# 金鑰密鑰，請填寫你的SECRETKEY\n",
        "SECRETKEY = \"\""
      ],
      "metadata": {
        "id": "Y1Rn8vjCFNLV"
      },
      "execution_count": null,
      "outputs": []
    },
    {
      "cell_type": "code",
      "source": [
        "# 範例函式，發送下單請求\n",
        "def demo():\n",
        "    # 空的請求主體\n",
        "    payload = {}\n",
        "    # API路徑\n",
        "    path = '/openApi/swap/v2/trade/order'\n",
        "    # HTTP請求方法\n",
        "    method = \"POST\"\n",
        "\n",
        "    # 下單參數\n",
        "    paramsMap = {\n",
        "        \"symbol\": \"BTC-USDT\",  # 交易對\n",
        "        \"side\": \"BUY\",         # 買進\n",
        "        \"positionSide\": \"LONG\",# 多單\n",
        "        \"type\": \"MARKET\",      # 市價單\n",
        "        \"quantity\": 5,         # 下單數量\n",
        "        \"takeProfit\": \"{\\\"type\\\": \\\"TAKE_PROFIT_MARKET\\\", \\\"stopPrice\\\": 31968.0,\\\"price\\\": 31968.0,\\\"workingType\\\":\\\"MARK_PRICE\\\"}\"\n",
        "        # 止盈條件，需以字串傳遞\n",
        "    }\n",
        "\n",
        "    # 解析參數並加上timestamp\n",
        "    paramsStr = parseParam(paramsMap)\n",
        "    # 發送API請求\n",
        "    return send_request(method, path, paramsStr, payload)"
      ],
      "metadata": {
        "id": "-Wdevtr2FPDu"
      },
      "execution_count": null,
      "outputs": []
    },
    {
      "cell_type": "code",
      "source": [
        "# 計算簽名\n",
        "def get_sign(api_secret, payload):\n",
        "    # 使用 HMAC-SHA256 生成簽名\n",
        "    signature = hmac.new(api_secret.encode(\"utf-8\"), payload.encode(\"utf-8\"), digestmod=sha256).hexdigest()\n",
        "    # 輸出簽名\n",
        "    print(\"sign=\" + signature)\n",
        "    # 回傳簽名\n",
        "    return signature"
      ],
      "metadata": {
        "id": "A1hvp03rFSKt"
      },
      "execution_count": null,
      "outputs": []
    },
    {
      "cell_type": "code",
      "source": [
        "# 發送API請求\n",
        "def send_request(method, path, urlpa, payload):\n",
        "    # 組合請求網址，包含簽名\n",
        "    url = \"%s%s?%s&signature=%s\" % (APIURL, path, urlpa, get_sign(SECRETKEY, urlpa))\n",
        "    # 輸出請求網址\n",
        "    print(url)\n",
        "\n",
        "    # 設定請求標頭，放入API KEY\n",
        "    headers = {\n",
        "        'X-BX-APIKEY': APIKEY,\n",
        "    }\n",
        "\n",
        "    # 發送HTTP請求\n",
        "    response = requests.request(method, url, headers=headers, data=payload)\n",
        "    # 回傳伺服器回應內容\n",
        "    return response.text"
      ],
      "metadata": {
        "id": "KbvwRmdvFUYe"
      },
      "execution_count": null,
      "outputs": []
    },
    {
      "cell_type": "code",
      "source": [
        "# 參數字典轉換成排序字串，並加上timestamp\n",
        "def parseParam(paramsMap):\n",
        "    # 取得排序後的key\n",
        "    sortedKeys = sorted(paramsMap)\n",
        "    # 將參數組合成字串\n",
        "    paramsStr = \"&\".join([\"%s=%s\" % (x, paramsMap[x]) for x in sortedKeys])\n",
        "    # 如果不是空字串，加上&timestamp\n",
        "    if paramsStr != \"\":\n",
        "        return paramsStr+\"&timestamp=\"+str(int(time.time() * 1000))\n",
        "    else:\n",
        "        # 若為空，直接加timestamp\n",
        "        return paramsStr+\"timestamp=\"+str(int(time.time() * 1000))"
      ],
      "metadata": {
        "id": "-uoMHYzFFVwF"
      },
      "execution_count": null,
      "outputs": []
    },
    {
      "cell_type": "code",
      "source": [
        "# 主程式區塊\n",
        "if __name__ == '__main__':\n",
        "    # 執行demo函式，印出結果\n",
        "    print(\"demo:\", demo())"
      ],
      "metadata": {
        "id": "V6QaB5wMFXst"
      },
      "execution_count": null,
      "outputs": []
    }
  ]
}
