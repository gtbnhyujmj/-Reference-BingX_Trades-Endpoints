{
  "nbformat": 4,
  "nbformat_minor": 0,
  "metadata": {
    "colab": {
      "provenance": [],
      "authorship_tag": "ABX9TyOcPAmoF9Pn51uBqxejGGPz",
      "include_colab_link": true
    },
    "kernelspec": {
      "name": "python3",
      "display_name": "Python 3"
    },
    "language_info": {
      "name": "python"
    }
  },
  "cells": [
    {
      "cell_type": "markdown",
      "metadata": {
        "id": "view-in-github",
        "colab_type": "text"
      },
      "source": [
        "<a href=\"https://colab.research.google.com/github/gtbnhyujmj/-Reference-BingX_Trades-Endpoints/blob/main/Cancel_orders_in_batches_and_place_orders_in_batches_%5BFormal%5D.ipynb\" target=\"_parent\"><img src=\"https://colab.research.google.com/assets/colab-badge.svg\" alt=\"Open In Colab\"/></a>"
      ]
    },
    {
      "cell_type": "code",
      "execution_count": null,
      "metadata": {
        "id": "dEHv2KsyNlOZ"
      },
      "outputs": [],
      "source": [
        "# 批次撤單與批次下單\n",
        "# 此 API 用於批量撤銷訂單，並批量下達新訂單。"
      ]
    },
    {
      "cell_type": "code",
      "source": [
        "# POST /openApi/swap/v1/trade/batchCancelReplace"
      ],
      "metadata": {
        "id": "hd3UbVovNqnT"
      },
      "execution_count": null,
      "outputs": []
    },
    {
      "cell_type": "code",
      "source": [
        "import time                   # 導入時間模組，用於產生 timestamp\n",
        "import requests               # 導入 requests 模組，發送 HTTP 請求\n",
        "import hmac                   # 導入 hmac 模組，計算 HMAC 簽名\n",
        "from hashlib import sha256    # 導入 sha256 雜湊，用於 HMAC 簽名"
      ],
      "metadata": {
        "id": "U0wrYvw8NtVr"
      },
      "execution_count": null,
      "outputs": []
    },
    {
      "cell_type": "code",
      "source": [
        "APIURL = \"https://open-api.bingx.com\"   # BingX API 入口網址\n",
        "APIKEY = \"\"        # 輸入你的 API KEY\n",
        "SECRETKEY = \"\"     # 輸入你的 SECRET KEY"
      ],
      "metadata": {
        "id": "BX9sZDCTNtqL"
      },
      "execution_count": null,
      "outputs": []
    },
    {
      "cell_type": "code",
      "source": [
        "def demo():\n",
        "    payload = {}   # POST 請求的內容，這裡沒有額外資料\n",
        "    path = '/openApi/swap/v1/trade/batchCancelReplace'   # API 路徑：批次撤單並重下單\n",
        "    method = \"POST\"   # HTTP 請求方法\n",
        "    paramsMap = {   # API 參數，依照官方文件填寫\n",
        "        # 批次訂單資訊，內容為多筆訂單的 JSON 字串\n",
        "        \"batchOrders\": \"[{\\\"cancelOrderId\\\": 1753337028434464768, \\\"cancelReplaceMode\\\": \\\"ALLOW_FAILURE\\\", \\\"symbol\\\": \\\"BTC-USDT\\\", \\\"type\\\": \\\"LIMIT\\\", \\\"side\\\": \\\"BUY\\\", \\\"positionSide\\\": \\\"LONG\\\", \\\"price\\\": 38000, \\\"quantity\\\": 1, \\\"takeProfit\\\": \\\"{\\\\\\\"type\\\\\\\": \\\\\\\"TAKE_PROFIT\\\\\\\", \\\\\\\"quantity\\\\\\\": 1, \\\\\\\"stopPrice\\\\\\\": 45000, \\\\\\\"price\\\\\\\": 45000}\\\", \\\"stopLoss\\\": \\\"{\\\\\\\"type\\\\\\\": \\\\\\\"STOP\\\\\\\", \\\\\\\"quantity\\\\\\\": 1, \\\\\\\"stopPrice\\\\\\\": 37000, \\\\\\\"price\\\\\\\": 37000}\\\"}, {\\\"cancelOrderId\\\": 1753337028434464768, \\\"cancelReplaceMode\\\": \\\"ALLOW_FAILURE\\\", \\\"symbol\\\": \\\"BTC-USDT\\\", \\\"type\\\": \\\"LIMIT\\\", \\\"side\\\": \\\"BUY\\\", \\\"positionSide\\\": \\\"LONG\\\", \\\"price\\\": 38000, \\\"quantity\\\": 1, \\\"takeProfit\\\": \\\"{\\\\\\\"type\\\\\\\": \\\\\\\"TAKE_PROFIT\\\\\\\", \\\\\\\"quantity\\\\\\\": 1, \\\\\\\"stopPrice\\\\\\\": 45000, \\\\\\\"price\\\\\\\": 45000}\\\", \\\"stopLoss\\\": \\\"{\\\\\\\"type\\\\\\\": \\\\\\\"STOP\\\\\\\", \\\\\\\"quantity\\\\\\\": 1, \\\\\\\"stopPrice\\\\\\\": 37000, \\\\\\\"price\\\\\\\": 37000}\\\"}, {\\\"cancelOrderId\\\": 1753337028434464768, \\\"cancelReplaceMode\\\": \\\"ALLOW_FAILURE\\\", \\\"symbol\\\": \\\"BTC-USDT\\\", \\\"type\\\": \\\"LIMIT\\\", \\\"side\\\": \\\"BUY\\\", \\\"positionSide\\\": \\\"LONG\\\", \\\"price\\\": 38000, \\\"quantity\\\": 1, \\\"takeProfit\\\": \\\"{\\\\\\\"type\\\\\\\": \\\\\\\"TAKE_PROFIT\\\\\\\", \\\\\\\"quantity\\\\\\\": 1, \\\\\\\"stopPrice\\\\\\\": 45000, \\\\\\\"price\\\\\\\": 45000}\\\", \\\"stopLoss\\\": \\\"{\\\\\\\"type\\\\\\\": \\\\\\\"STOP\\\\\\\", \\\\\\\"quantity\\\\\\\": 1, \\\\\\\"stopPrice\\\\\\\": 37000, \\\\\\\"price\\\\\\\": 37000}\\\"}]\",\n",
        "        \"timestamp\": \"1702731530753\"     # 時間戳，建議實作時自動生成\n",
        "    }\n",
        "    paramsStr = parseParam(paramsMap)   # 將參數 dict 轉成查詢字串\n",
        "    return send_request(method, path, paramsStr, payload)   # 發送 API 請求"
      ],
      "metadata": {
        "id": "1El9LYqTNwJ7"
      },
      "execution_count": null,
      "outputs": []
    },
    {
      "cell_type": "code",
      "source": [
        "def get_sign(api_secret, payload):\n",
        "    # 用 SECRET KEY 和查詢字串產生 HMAC-SHA256 簽名\n",
        "    signature = hmac.new(api_secret.encode(\"utf-8\"), payload.encode(\"utf-8\"), digestmod=sha256).hexdigest()\n",
        "    print(\"sign=\" + signature)  # 輸出簽名（debug 用）\n",
        "    return signature"
      ],
      "metadata": {
        "id": "75fRiUJoNyPj"
      },
      "execution_count": null,
      "outputs": []
    },
    {
      "cell_type": "code",
      "source": [
        "def send_request(method, path, urlpa, payload):\n",
        "    # 拼接完整請求 URL，加上簽名\n",
        "    url = \"%s%s?%s&signature=%s\" % (APIURL, path, urlpa, get_sign(SECRETKEY, urlpa))\n",
        "    print(url)  # 印出實際請求 URL（debug 用）\n",
        "    headers = {\n",
        "        'X-BX-APIKEY': APIKEY,    # APIKEY 放在 Header\n",
        "    }\n",
        "    # 發送 HTTP 請求\n",
        "    response = requests.request(method, url, headers=headers, data=payload)\n",
        "    return response.text    # 回傳 API 回應內容（純文字）"
      ],
      "metadata": {
        "id": "KiXQpFm7N0d8"
      },
      "execution_count": null,
      "outputs": []
    },
    {
      "cell_type": "code",
      "source": [
        "def parseParam(paramsMap):\n",
        "    # 將參數 dict 按 key 排序，轉換成 URL 查詢字串\n",
        "    sortedKeys = sorted(paramsMap)\n",
        "    paramsStr = \"&\".join([\"%s=%s\" % (x, paramsMap[x]) for x in sortedKeys])\n",
        "    # 動態補上 timestamp\n",
        "    if paramsStr != \"\":\n",
        "        return paramsStr+\"&timestamp=\"+str(int(time.time() * 1000))\n",
        "    else:\n",
        "        return paramsStr+\"timestamp=\"+str(int(time.time() * 1000))"
      ],
      "metadata": {
        "id": "lD-UkdpEN1_7"
      },
      "execution_count": null,
      "outputs": []
    },
    {
      "cell_type": "code",
      "source": [
        "if __name__ == '__main__':\n",
        "    print(\"demo:\", demo())   # 主程式測試，呼叫 demo()"
      ],
      "metadata": {
        "id": "H6Ix9V3fN3ub"
      },
      "execution_count": null,
      "outputs": []
    }
  ]
}