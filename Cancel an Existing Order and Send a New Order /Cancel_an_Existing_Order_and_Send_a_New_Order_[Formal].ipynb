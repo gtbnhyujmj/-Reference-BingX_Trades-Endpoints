{
  "nbformat": 4,
  "nbformat_minor": 0,
  "metadata": {
    "colab": {
      "provenance": [],
      "authorship_tag": "ABX9TyOi3Wxo0Rc8BkWGUqzOv9lB",
      "include_colab_link": true
    },
    "kernelspec": {
      "name": "python3",
      "display_name": "Python 3"
    },
    "language_info": {
      "name": "python"
    }
  },
  "cells": [
    {
      "cell_type": "markdown",
      "metadata": {
        "id": "view-in-github",
        "colab_type": "text"
      },
      "source": [
        "<a href=\"https://colab.research.google.com/github/gtbnhyujmj/-Reference-BingX_Trades-Endpoints/blob/main/Cancel_an_Existing_Order_and_Send_a_New_Order_%5BFormal%5D.ipynb\" target=\"_parent\"><img src=\"https://colab.research.google.com/assets/colab-badge.svg\" alt=\"Open In Colab\"/></a>"
      ]
    },
    {
      "cell_type": "code",
      "execution_count": null,
      "metadata": {
        "id": "yk9sUKdDMx-B"
      },
      "outputs": [],
      "source": [
        "# 撤銷現有訂單並發送新訂單\n",
        "# 此 API 用於取消某個交易對上的現有訂單，並在同一交易對下下達一個新訂單。"
      ]
    },
    {
      "cell_type": "code",
      "source": [
        "# POST /openApi/swap/v1/trade/cancelReplace"
      ],
      "metadata": {
        "id": "coJskQrlM7DU"
      },
      "execution_count": null,
      "outputs": []
    },
    {
      "cell_type": "code",
      "source": [
        "import time                   # 導入時間模組，用於產生 timestamp\n",
        "import requests               # 導入 requests 模組，發送 HTTP 請求\n",
        "import hmac                   # 導入 hmac 模組，計算 HMAC 簽名\n",
        "from hashlib import sha256    # 導入 sha256 雜湊，用於 HMAC 簽名"
      ],
      "metadata": {
        "id": "xSe7frS1M9kD"
      },
      "execution_count": null,
      "outputs": []
    },
    {
      "cell_type": "code",
      "source": [
        "APIURL = \"https://open-api.bingx.com\"   # BingX API 入口網址\n",
        "APIKEY = \"\"        # 輸入你的 API KEY\n",
        "SECRETKEY = \"\"     # 輸入你的 SECRET KEY"
      ],
      "metadata": {
        "id": "5PUncCqHM95b"
      },
      "execution_count": null,
      "outputs": []
    },
    {
      "cell_type": "code",
      "source": [
        "def demo():\n",
        "    payload = {}   # POST 請求的內容，這裡沒有額外資料\n",
        "    path = '/openApi/swap/v1/trade/cancelReplace'   # API 路徑：撤銷並重下單\n",
        "    method = \"POST\"   # HTTP 請求方法\n",
        "    paramsMap = {   # API 參數，依照官方文件填寫\n",
        "        \"cancelReplaceMode\": \"STOP_ON_FAILURE\",  # 撤銷重下單模式\n",
        "        \"cancelClientOrderId\": \"abc123test\",     # 要撤銷的 client 訂單號\n",
        "        \"cancelOrderId\": 123456789,              # 要撤銷的訂單號（整數）\n",
        "        \"cancelRestrictions\": \"ONLY_NEW\",        # 撤銷限制\n",
        "        \"symbol\": \"BTC-USDT\",                    # 交易對\n",
        "        \"side\": \"BUY\",                           # 買賣方向\n",
        "        \"positionSide\": \"LONG\",                  # 持倉方向\n",
        "        \"type\": \"MARKET\",                        # 下單型態（市價單）\n",
        "        \"quantity\": 5,                           # 數量\n",
        "        # 止盈條件，字串格式需參考官方文件（通常為 JSON 字串）\n",
        "        \"takeProfit\": \"{\\\"type\\\": \\\"TAKE_PROFIT_MARKET\\\", \\\"stopPrice\\\": 31968.0,\\\"price\\\": 31968.0,\\\"workingType\\\":\\\"MARK_PRICE\\\"}\",\n",
        "        \"timestamp\": \"1702731530753\"             # 時間戳，建議實作時自動生成\n",
        "    }\n",
        "    paramsStr = parseParam(paramsMap)   # 將參數 dict 轉成查詢字串\n",
        "    return send_request(method, path, paramsStr, payload)   # 發送 API 請求"
      ],
      "metadata": {
        "id": "7bnhtG46M_UM"
      },
      "execution_count": null,
      "outputs": []
    },
    {
      "cell_type": "code",
      "source": [
        "def get_sign(api_secret, payload):\n",
        "    # 用 SECRET KEY 和查詢字串產生 HMAC-SHA256 簽名\n",
        "    signature = hmac.new(api_secret.encode(\"utf-8\"), payload.encode(\"utf-8\"), digestmod=sha256).hexdigest()\n",
        "    print(\"sign=\" + signature)  # 輸出簽名（debug 用）\n",
        "    return signature"
      ],
      "metadata": {
        "id": "cEkxI8wiNCpL"
      },
      "execution_count": null,
      "outputs": []
    },
    {
      "cell_type": "code",
      "source": [
        "def send_request(method, path, urlpa, payload):\n",
        "    # 拼接完整請求 URL，加上簽名\n",
        "    url = \"%s%s?%s&signature=%s\" % (APIURL, path, urlpa, get_sign(SECRETKEY, urlpa))\n",
        "    print(url)  # 印出實際請求 URL（debug 用）\n",
        "    headers = {\n",
        "        'X-BX-APIKEY': APIKEY,    # APIKEY 放在 Header\n",
        "    }\n",
        "    # 發送 HTTP 請求\n",
        "    response = requests.request(method, url, headers=headers, data=payload)\n",
        "    return response.text    # 回傳 API 回應內容（純文字）"
      ],
      "metadata": {
        "id": "pmIrkSllNEuL"
      },
      "execution_count": null,
      "outputs": []
    },
    {
      "cell_type": "code",
      "source": [
        "def parseParam(paramsMap):\n",
        "    # 將參數 dict 按 key 排序，轉換成 URL 查詢字串\n",
        "    sortedKeys = sorted(paramsMap)\n",
        "    paramsStr = \"&\".join([\"%s=%s\" % (x, paramsMap[x]) for x in sortedKeys])\n",
        "    # 動態補上 timestamp\n",
        "    if paramsStr != \"\":\n",
        "        return paramsStr+\"&timestamp=\"+str(int(time.time() * 1000))\n",
        "    else:\n",
        "        return paramsStr+\"timestamp=\"+str(int(time.time() * 1000))"
      ],
      "metadata": {
        "id": "HUF1sW8eNGvr"
      },
      "execution_count": null,
      "outputs": []
    },
    {
      "cell_type": "code",
      "source": [
        "if __name__ == '__main__':\n",
        "    print(\"demo:\", demo())   # 主程式測試，呼叫 demo()"
      ],
      "metadata": {
        "id": "deNDUDtJNJNr"
      },
      "execution_count": null,
      "outputs": []
    }
  ]
}
